{
  "nbformat": 4,
  "nbformat_minor": 0,
  "metadata": {
    "colab": {
      "provenance": [],
      "authorship_tag": "ABX9TyOagdEV+YZzpz7PAm0vrCMc",
      "include_colab_link": true
    },
    "kernelspec": {
      "name": "python3",
      "display_name": "Python 3"
    },
    "language_info": {
      "name": "python"
    }
  },
  "cells": [
    {
      "cell_type": "markdown",
      "metadata": {
        "id": "view-in-github",
        "colab_type": "text"
      },
      "source": [
        "<a href=\"https://colab.research.google.com/github/Rachna-tech765/Research-Project/blob/main/experiment11.ipynb\" target=\"_parent\"><img src=\"https://colab.research.google.com/assets/colab-badge.svg\" alt=\"Open In Colab\"/></a>"
      ]
    },
    {
      "cell_type": "code",
      "source": [
        "import pandas as pd\n",
        "import matplotlib.pyplot as plt\n",
        "\n",
        "# Load dataset from GitHub raw link\n",
        "url = \"https://raw.githubusercontent.com/Rachna-tech765/Research-Project/main/students_data.csv\"\n",
        "data = pd.read_csv(url)\n",
        "\n",
        "# Show first 5 rows\n",
        "print(data.head())\n"
      ],
      "metadata": {
        "colab": {
          "base_uri": "https://localhost:8080/"
        },
        "id": "NWBlDNEktXO8",
        "outputId": "6c257169-0cfb-462e-d71e-1f04694035a0"
      },
      "execution_count": 2,
      "outputs": [
        {
          "output_type": "stream",
          "name": "stdout",
          "text": [
            "   ID   Name  Age Department  Marks Grade\n",
            "0   1   Ravi   20         IT     78     B\n",
            "1   2   Neha   21        CSE     85     A\n",
            "2   3   Amit   19         IT     65     C\n",
            "3   4  Pooja   20        ECE     92     A\n",
            "4   5  Arjun   22         ME     55     D\n"
          ]
        }
      ]
    },
    {
      "cell_type": "code",
      "source": [
        "# Basic statistics\n",
        "print(data.describe())\n",
        "\n",
        "# Visualization\n",
        "plt.figure(figsize=(6,4))\n",
        "plt.hist(data[\"Age\"], bins=5, edgecolor=\"black\")\n",
        "plt.title(\"Distribution of Students' Age\")\n",
        "plt.xlabel(\"Age\")\n",
        "plt.ylabel(\"Count\")\n",
        "plt.show()\n"
      ],
      "metadata": {
        "colab": {
          "base_uri": "https://localhost:8080/",
          "height": 566
        },
        "id": "iWFnB8r3taH1",
        "outputId": "16f494b8-d751-4ab2-85ec-33466c31b2fc"
      },
      "execution_count": 3,
      "outputs": [
        {
          "output_type": "stream",
          "name": "stdout",
          "text": [
            "             ID        Age      Marks\n",
            "count  10.00000  10.000000  10.000000\n",
            "mean    5.50000  20.500000  72.100000\n",
            "std     3.02765   1.080123  15.466451\n",
            "min     1.00000  19.000000  45.000000\n",
            "25%     3.25000  20.000000  61.250000\n",
            "50%     5.50000  20.500000  75.000000\n",
            "75%     7.75000  21.000000  84.000000\n",
            "max    10.00000  22.000000  92.000000\n"
          ]
        },
        {
          "output_type": "display_data",
          "data": {
            "text/plain": [
              "<Figure size 600x400 with 1 Axes>"
            ],
            "image/png": "[encoded data removed]"
          },
          "metadata": {}
        }
      ]
    }
  ]
}